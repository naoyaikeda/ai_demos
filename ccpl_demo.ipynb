{
  "cells": [
    {
      "cell_type": "markdown",
      "metadata": {
        "id": "ze17Whr66OiC"
      },
      "source": [
        "論文<br>\n",
        "https://arxiv.org/abs/2207.04808<br>\n",
        "<br>\n",
        "GitHub<br>\n",
        "https://github.com/JarrentWu1031/CCPL<br>\n",
        "<br>\n",
        "<a href=\"https://colab.research.google.com/github/kaz12tech/ai_demos/blob/master/ccpl_demo.ipynb\" target=\"_blank\"><img src=\"https://colab.research.google.com/assets/colab-badge.svg\" alt=\"Open In Colab\"/></a>"
      ]
    },
    {
      "cell_type": "markdown",
      "metadata": {
        "id": "GOLKpkBa6OiI"
      },
      "source": [
        "# 環境セットアップ"
      ]
    },
    {
      "cell_type": "markdown",
      "metadata": {
        "id": "Jz8gTEgP6OiJ"
      },
      "source": [
        "## GitHubからソースコードを取得"
      ]
    },
    {
      "cell_type": "code",
      "execution_count": null,
      "metadata": {
        "colab": {
          "base_uri": "https://localhost:8080/"
        },
        "id": "SO7I9ozfFpmW",
        "outputId": "a35337a4-ba7a-4e9f-d176-157a478ccd28"
      },
      "outputs": [],
      "source": [
        "%cd /content\n",
        "\n",
        "!git clone https://github.com/JarrentWu1031/CCPL.git"
      ]
    },
    {
      "cell_type": "markdown",
      "metadata": {
        "id": "07hg4xM8tYCV"
      },
      "source": [
        "## ライブラリのインストール"
      ]
    },
    {
      "cell_type": "code",
      "execution_count": null,
      "metadata": {
        "colab": {
          "base_uri": "https://localhost:8080/"
        },
        "id": "gRHm5XmrGGNB",
        "outputId": "931ccb57-5d28-4825-9aaf-a1176fdb8053"
      },
      "outputs": [],
      "source": [
        "%cd /content/CCPL\n",
        "\n",
        "!pip install --upgrade gdown\n",
        "!pip install -r requirements.txt\n",
        "\n",
        "!pip install moviepy==0.2.3.5 imageio==2.4.1\n",
        "!pip install yt-dlp"
      ]
    },
    {
      "cell_type": "markdown",
      "metadata": {
        "id": "L6sssZcc9CBF"
      },
      "source": [
        "## ライブラリをインポート"
      ]
    },
    {
      "cell_type": "code",
      "execution_count": null,
      "metadata": {
        "colab": {
          "base_uri": "https://localhost:8080/"
        },
        "id": "oeUH114h9AEa",
        "outputId": "5bd75fd9-89de-4042-925d-a4f43551ae5c"
      },
      "outputs": [],
      "source": [
        "import os\n",
        "\n",
        "from yt_dlp import YoutubeDL\n",
        "from moviepy.video.fx.resize import resize\n",
        "from moviepy.editor import VideoFileClip\n",
        "\n",
        "from PIL import Image\n",
        "import IPython"
      ]
    },
    {
      "cell_type": "markdown",
      "metadata": {
        "id": "1E2Tf5qE7EjH"
      },
      "source": [
        "# 学習済みモデルのダウンロード"
      ]
    },
    {
      "cell_type": "code",
      "execution_count": null,
      "metadata": {
        "colab": {
          "base_uri": "https://localhost:8080/"
        },
        "id": "fHJjZa2Z7Juh",
        "outputId": "fe55c2a8-da22-45c2-9b56-90f12cade7fa"
      },
      "outputs": [],
      "source": [
        "%cd /content/CCPL\n",
        "!mkdir -p pretrained/art pretrained/photo models\n",
        "\n",
        "# https://drive.google.com/drive/folders/1XxhpzFqCVvboIyXKLfb2ocJZabPYu3pi\n",
        "art_decoder_ckpt = 'pretrained/art/decoder_iter_160000.pth.tar'\n",
        "if not os.path.exists(art_decoder_ckpt):\n",
        "  !gdown --id 1QSTHPqhsyReU4BKtCQIWJC5tL1nXBUOt \\\n",
        "          -O {art_decoder_ckpt}\n",
        "\n",
        "art_sct_ckpt = 'pretrained/art/sct_iter_160000.pth.tar'\n",
        "if not os.path.exists(art_sct_ckpt):\n",
        "  !gdown --id 1ccA2Slqr8wptQtFjs7kHCkemKxT642Ud \\\n",
        "          -O {art_sct_ckpt}\n",
        "\n",
        "photo_decoder_ckpt = 'pretrained/photo/decoder_iter_160000.pth.tar'\n",
        "if not os.path.exists(photo_decoder_ckpt):\n",
        "  !gdown --id 1GothVHT9sWCwrggQWEdTchVu3FlPx9Fx \\\n",
        "          -O {photo_decoder_ckpt}\n",
        "\n",
        "photo_sct_ckpt = 'pretrained/photo/sct_iter_160000.pth.tar'\n",
        "if not os.path.exists(photo_sct_ckpt):\n",
        "  !gdown --id 1LHAbK4gUlmY2QWHKzf6gfUOSiGKxvETv \\\n",
        "          -O {photo_sct_ckpt}\n",
        "\n",
        "\n",
        "vgg_ckpt = 'models/vgg_normalised.pth'\n",
        "if not os.path.exists(vgg_ckpt):\n",
        "  !gdown --id 1EpkBA2K2eYILDSyPTt0fztz59UjAIpZU \\\n",
        "          -O {vgg_ckpt}"
      ]
    },
    {
      "cell_type": "markdown",
      "metadata": {
        "id": "PEBHra___rnd"
      },
      "source": [
        "# テスト画像取得"
      ]
    },
    {
      "cell_type": "code",
      "execution_count": null,
      "metadata": {
        "colab": {
          "base_uri": "https://localhost:8080/"
        },
        "id": "S1BHfmN9_tzN",
        "outputId": "55d17e0f-d796-42fa-9f6f-120d59d2c743"
      },
      "outputs": [],
      "source": [
        "%cd /content/CCPL\n",
        "\n",
        "!mkdir test_img\n",
        "\n",
        "!wget -c https://www.pakutaso.com/shared/img/thumb/TSJ86_date20150208082618_TP_V4.jpg \\\n",
        "      -O test_img/test_01.jpg"
      ]
    },
    {
      "cell_type": "markdown",
      "metadata": {
        "id": "GrUtDf6yBs3b"
      },
      "source": [
        "# テスト動画取得"
      ]
    },
    {
      "cell_type": "code",
      "execution_count": null,
      "metadata": {
        "id": "J5XpvAncB2Sy"
      },
      "outputs": [],
      "source": [
        "video_url = 'https://www.youtube.com/watch?v=8tOIjOPZ5sA' #@param {type:\"string\"}\n",
        "\n",
        "#@markdown 動画の切り抜き範囲(秒)を指定してください。\\\n",
        "#@markdown 30秒以上の場合OOM発生の可能性が高いため注意\n",
        "start_sec =  31#@param {type:\"integer\"}\n",
        "end_sec =  33#@param {type:\"integer\"}\n",
        "\n",
        "(start_pt, end_pt) = (start_sec, end_sec)"
      ]
    },
    {
      "cell_type": "code",
      "execution_count": null,
      "metadata": {
        "colab": {
          "base_uri": "https://localhost:8080/"
        },
        "id": "SHi-8Se0Bxqe",
        "outputId": "d41dde0f-9d89-4dac-ab43-48f2c519942f"
      },
      "outputs": [],
      "source": [
        "%cd /content/CCPL\n",
        "\n",
        "!mkdir -p test_video/frames\n",
        "\n",
        "download_resolution = 720\n",
        "full_video_path = '/content/CCPL/test_video/full_video.mp4'\n",
        "input_clip_path = '/content/CCPL/test_video/clip_video.mp4'\n",
        "\n",
        "# 動画ダウンロード\n",
        "ydl_opts = {'format': f'best[height<={download_resolution}]', 'overwrites': True, 'outtmpl': full_video_path}\n",
        "with YoutubeDL(ydl_opts) as ydl:\n",
        "    ydl.download([video_url])\n",
        "\n",
        "# 指定区間切り抜き\n",
        "with VideoFileClip(full_video_path) as video:\n",
        "    subclip = video.subclip(start_pt, end_pt)\n",
        "    subclip.write_videofile(input_clip_path)"
      ]
    },
    {
      "cell_type": "markdown",
      "metadata": {
        "id": "o95K6VD7BNa8"
      },
      "source": [
        "# Style Transfer Image"
      ]
    },
    {
      "cell_type": "code",
      "execution_count": null,
      "metadata": {
        "colab": {
          "base_uri": "https://localhost:8080/"
        },
        "id": "Q1p72YbC9cmA",
        "outputId": "9eab904c-8d6a-4bea-c4a2-5da47248d4c9"
      },
      "outputs": [],
      "source": [
        "%cd /content/CCPL\n",
        "\n",
        "# testing_mode art or pho\n",
        "!python ./test.py \\\n",
        "  --vgg models/vgg_normalised.pth \\\n",
        "  --SCT pretrained/photo/sct_iter_160000.pth.tar \\\n",
        "  --decoder pretrained/photo/decoder_iter_160000.pth.tar \\\n",
        "  --content test_img/test_01.jpg \\\n",
        "  --style input/style/sketch.png \\\n",
        "  --testing_mode pho \\\n",
        "  --output outputs/imgs"
      ]
    },
    {
      "cell_type": "code",
      "execution_count": null,
      "metadata": {
        "colab": {
          "base_uri": "https://localhost:8080/",
          "height": 785
        },
        "id": "JCjfJapbAeyb",
        "outputId": "d8830816-94a0-4b12-8a39-22fe3f0e4de4"
      },
      "outputs": [],
      "source": [
        "im = Image.open('/content/CCPL/outputs/imgs/test_01_stylized_sketch.jpg')\n",
        "IPython.display.display(im)"
      ]
    },
    {
      "cell_type": "markdown",
      "metadata": {
        "id": "dtehwE8nBQej"
      },
      "source": [
        "# Style Transfer Video"
      ]
    },
    {
      "cell_type": "markdown",
      "metadata": {
        "id": "UZxbepY8CxL1"
      },
      "source": [
        "## Frame画像生成"
      ]
    },
    {
      "cell_type": "code",
      "execution_count": null,
      "metadata": {
        "colab": {
          "base_uri": "https://localhost:8080/"
        },
        "id": "xVGUwZqDCyxl",
        "outputId": "4eaebe5e-6275-445c-f900-af4c7ba98321"
      },
      "outputs": [],
      "source": [
        "%cd /content/CCPL\n",
        "\n",
        "!ffmpeg -i {input_clip_path} test_video/frames/%06d.png"
      ]
    },
    {
      "cell_type": "code",
      "execution_count": null,
      "metadata": {
        "id": "Wgp0P4ojD030"
      },
      "outputs": [],
      "source": [
        "!sed -i /content/CCPL/test_video_frame.py -e \"s/transforms.Scale/transforms.Resize/g\""
      ]
    },
    {
      "cell_type": "code",
      "execution_count": null,
      "metadata": {
        "colab": {
          "base_uri": "https://localhost:8080/"
        },
        "id": "EASn8_eaDHCv",
        "outputId": "c8f77fa7-f43b-4ac4-8e26-57922c81a60c"
      },
      "outputs": [],
      "source": [
        "!python ./test_video_frame.py \\\n",
        "  --vgg models/vgg_normalised.pth \\\n",
        "  --SCT pretrained/art/sct_iter_160000.pth.tar \\\n",
        "  --decoder pretrained/art/decoder_iter_160000.pth.tar \\\n",
        "  --content_dir test_video/frames \\\n",
        "  --style_path input/style/sketch.png \\\n",
        "  --testing_mode art \\\n",
        "  --output outputs/videos/art"
      ]
    },
    {
      "cell_type": "code",
      "execution_count": null,
      "metadata": {
        "colab": {
          "base_uri": "https://localhost:8080/",
          "height": 460
        },
        "id": "BmRHDyNsEyZ3",
        "outputId": "2199941c-ffd0-48e1-b378-2861f08acdc5"
      },
      "outputs": [],
      "source": [
        "clip = VideoFileClip(\"outputs/videos/art/transfer.avi\")\n",
        "clip = resize(clip, height=420)\n",
        "clip.ipython_display()"
      ]
    },
    {
      "cell_type": "code",
      "execution_count": null,
      "metadata": {
        "colab": {
          "base_uri": "https://localhost:8080/"
        },
        "id": "9-9GWfKZGWrl",
        "outputId": "dc20b1b3-980b-4c60-bfb9-486b45b0151b"
      },
      "outputs": [],
      "source": [
        "!python ./test_video_frame.py \\\n",
        "  --vgg models/vgg_normalised.pth \\\n",
        "  --SCT pretrained/photo/sct_iter_160000.pth.tar \\\n",
        "  --decoder pretrained/photo/decoder_iter_160000.pth.tar \\\n",
        "  --content_dir test_video/frames \\\n",
        "  --style_path input/style/sketch.png \\\n",
        "  --testing_mode pho \\\n",
        "  --preserve_color \\\n",
        "  --output outputs/videos/pho"
      ]
    },
    {
      "cell_type": "code",
      "execution_count": null,
      "metadata": {
        "colab": {
          "base_uri": "https://localhost:8080/",
          "height": 460
        },
        "id": "nyAq0KVuGZle",
        "outputId": "a0a4cf43-7269-4d61-c292-e92348b3ab98"
      },
      "outputs": [],
      "source": [
        "clip = VideoFileClip(\"outputs/videos/pho/transfer.avi\")\n",
        "clip = resize(clip, height=420)\n",
        "clip.ipython_display()"
      ]
    }
  ],
  "metadata": {
    "accelerator": "GPU",
    "colab": {
      "collapsed_sections": [],
      "provenance": []
    },
    "kernelspec": {
      "display_name": "Python 3.10.4 64-bit",
      "language": "python",
      "name": "python3"
    },
    "language_info": {
      "name": "python",
      "version": "3.10.4"
    },
    "vscode": {
      "interpreter": {
        "hash": "69158ccfe43d0b962045f592ede11796dd42f250837ab62152c8bc6cd100a15b"
      }
    }
  },
  "nbformat": 4,
  "nbformat_minor": 0
}
